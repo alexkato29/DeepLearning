{
 "cells": [
  {
   "cell_type": "code",
   "execution_count": 1,
   "metadata": {},
   "outputs": [],
   "source": [
    "from NeuralNetwork import NeuralNetwork\n",
    "from Layers.Linear import Linear\n",
    "from Activations.Identity import Identity\n",
    "from Activations.ReLU import Relu\n",
    "from Loss.MSE import MSE\n",
    "from Optimizers.MiniBatchGD import MiniBatchGD\n",
    "\n",
    "import numpy as np"
   ]
  },
  {
   "cell_type": "code",
   "execution_count": 2,
   "metadata": {},
   "outputs": [],
   "source": [
    "# XOR inputs and outputs for testing\n",
    "X = np.array([[1, 1], [0, 0], [0, 1], [1, 0]])\n",
    "y = np.array([[0], [0], [1], [1]])"
   ]
  },
  {
   "cell_type": "code",
   "execution_count": 3,
   "metadata": {},
   "outputs": [],
   "source": [
    "# Optimizer and Loss Objects?\n",
    "nn = NeuralNetwork(\n",
    "    [\n",
    "    Linear((2, 2), Relu()),\n",
    "    Linear((2, 1), Identity())\n",
    "    ],\n",
    "    loss=MSE, optimizer=MiniBatchGD(batch_size=10)\n",
    ")"
   ]
  },
  {
   "cell_type": "code",
   "execution_count": 4,
   "metadata": {},
   "outputs": [
    {
     "name": "stdout",
     "output_type": "stream",
     "text": [
      "[[1 1]\n",
      " [0 0]\n",
      " [0 1]\n",
      " [1 0]]\n"
     ]
    },
    {
     "ename": "AttributeError",
     "evalue": "'MiniBatchGD' object has no attribute 'epochs'",
     "output_type": "error",
     "traceback": [
      "\u001b[0;31m---------------------------------------------------------------------------\u001b[0m",
      "\u001b[0;31mAttributeError\u001b[0m                            Traceback (most recent call last)",
      "Cell \u001b[0;32mIn[4], line 3\u001b[0m\n\u001b[1;32m      1\u001b[0m \u001b[39mprint\u001b[39m(X)\n\u001b[0;32m----> 3\u001b[0m nn\u001b[39m.\u001b[39;49mfit(X, y)\n\u001b[1;32m      5\u001b[0m \u001b[39mprint\u001b[39m(nn\u001b[39m.\u001b[39mget_layer(\u001b[39m0\u001b[39m)\u001b[39m.\u001b[39mW)\n\u001b[1;32m      6\u001b[0m \u001b[39mprint\u001b[39m(nn\u001b[39m.\u001b[39mget_layer(\u001b[39m1\u001b[39m)\u001b[39m.\u001b[39mW)\n",
      "File \u001b[0;32m~/Desktop/coding/python/DeepLearning/NeuralNetwork.py:32\u001b[0m, in \u001b[0;36mNeuralNetwork.fit\u001b[0;34m(self, X, y)\u001b[0m\n\u001b[1;32m     31\u001b[0m \u001b[39mdef\u001b[39;00m \u001b[39mfit\u001b[39m(\u001b[39mself\u001b[39m, X, y):\n\u001b[0;32m---> 32\u001b[0m     \u001b[39mself\u001b[39;49m\u001b[39m.\u001b[39;49moptimizer\u001b[39m.\u001b[39;49mfit(\u001b[39mself\u001b[39;49m, X, y)\n",
      "File \u001b[0;32m~/Desktop/coding/python/DeepLearning/Optimizers/MiniBatchGD.py:27\u001b[0m, in \u001b[0;36mMiniBatchGD.fit\u001b[0;34m(self, nn, X, y)\u001b[0m\n\u001b[1;32m     26\u001b[0m \u001b[39mdef\u001b[39;00m \u001b[39mfit\u001b[39m(\u001b[39mself\u001b[39m, nn, X, y):\n\u001b[0;32m---> 27\u001b[0m     \u001b[39mfor\u001b[39;00m epoch \u001b[39min\u001b[39;00m \u001b[39mrange\u001b[39m(\u001b[39mself\u001b[39;49m\u001b[39m.\u001b[39;49mepochs):\n\u001b[1;32m     28\u001b[0m         np\u001b[39m.\u001b[39mrandom\u001b[39m.\u001b[39mshuffle(X)\n\u001b[1;32m     29\u001b[0m         batches \u001b[39m=\u001b[39m [X[i:i\u001b[39m+\u001b[39m\u001b[39mself\u001b[39m\u001b[39m.\u001b[39mbatch_size] \u001b[39mfor\u001b[39;00m i \u001b[39min\u001b[39;00m \u001b[39mrange\u001b[39m(\u001b[39m0\u001b[39m, X\u001b[39m.\u001b[39mshape[\u001b[39m0\u001b[39m], \u001b[39mself\u001b[39m\u001b[39m.\u001b[39mbatch_size)]\n",
      "\u001b[0;31mAttributeError\u001b[0m: 'MiniBatchGD' object has no attribute 'epochs'"
     ]
    }
   ],
   "source": [
    "print(X)\n",
    "\n",
    "nn.fit(X, y)\n",
    "\n",
    "print(nn.get_layer(0).W)\n",
    "print(nn.get_layer(1).W)\n",
    "print(nn.predict(X))"
   ]
  }
 ],
 "metadata": {
  "kernelspec": {
   "display_name": "Python 3",
   "language": "python",
   "name": "python3"
  },
  "language_info": {
   "codemirror_mode": {
    "name": "ipython",
    "version": 3
   },
   "file_extension": ".py",
   "mimetype": "text/x-python",
   "name": "python",
   "nbconvert_exporter": "python",
   "pygments_lexer": "ipython3",
   "version": "3.10.2"
  },
  "orig_nbformat": 4
 },
 "nbformat": 4,
 "nbformat_minor": 2
}
