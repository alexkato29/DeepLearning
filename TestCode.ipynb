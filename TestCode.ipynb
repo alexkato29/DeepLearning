{
 "cells": [
  {
   "cell_type": "code",
   "execution_count": 26,
   "metadata": {},
   "outputs": [],
   "source": [
    "from NeuralNetwork import NeuralNetwork\n",
    "from Layers.Linear import Linear\n",
    "from Activations.Identity import Identity\n",
    "from Activations.ReLU import Relu\n",
    "from Loss.MSE import MSE\n",
    "from Optimizers.MiniBatchGD import MiniBatchGD\n",
    "\n",
    "import numpy as np"
   ]
  },
  {
   "cell_type": "code",
   "execution_count": 27,
   "metadata": {},
   "outputs": [],
   "source": [
    "# XOR inputs and outputs for testing\n",
    "X = np.array([[1, 1], [0, 0], [0, 1], [1, 0]])\n",
    "y = np.array([[0], [0], [1], [1]])"
   ]
  },
  {
   "cell_type": "code",
   "execution_count": 28,
   "metadata": {},
   "outputs": [],
   "source": [
    "nn = NeuralNetwork(\n",
    "    [\n",
    "    Linear((2, 2), Relu()),\n",
    "    Linear((2, 1), Identity())\n",
    "    ],\n",
    "    criterion=MSE()\n",
    ")"
   ]
  },
  {
   "cell_type": "code",
   "execution_count": 29,
   "metadata": {},
   "outputs": [
    {
     "name": "stdout",
     "output_type": "stream",
     "text": [
      "[[-0.02469298]\n",
      " [ 0.        ]\n",
      " [ 0.02336031]\n",
      " [-0.08654244]]\n",
      "Epoch [0/200], Loss: 0.3497\n",
      "Epoch [10/200], Loss: 0.2214\n",
      "Epoch [20/200], Loss: 0.1725\n",
      "Epoch [30/200], Loss: 0.0978\n",
      "Epoch [40/200], Loss: 0.0428\n",
      "Epoch [50/200], Loss: 0.0117\n",
      "Epoch [60/200], Loss: 0.0032\n",
      "Epoch [70/200], Loss: 0.0005\n",
      "Epoch [80/200], Loss: 0.0001\n",
      "Epoch [90/200], Loss: 0.0000\n",
      "Epoch [100/200], Loss: 0.0000\n",
      "Epoch [110/200], Loss: 0.0000\n",
      "Epoch [120/200], Loss: 0.0000\n",
      "Epoch [130/200], Loss: 0.0000\n",
      "Epoch [140/200], Loss: 0.0000\n",
      "Epoch [150/200], Loss: 0.0000\n",
      "Epoch [160/200], Loss: 0.0000\n",
      "Epoch [170/200], Loss: 0.0000\n",
      "Epoch [180/200], Loss: 0.0000\n",
      "Epoch [190/200], Loss: 0.0000\n",
      "Epoch [200/200], Loss: 0.0000\n",
      "[[3.40620909e-07]\n",
      " [2.96242185e-07]\n",
      " [9.99999844e-01]\n",
      " [9.99999903e-01]]\n"
     ]
    }
   ],
   "source": [
    "print(nn.predict(X))\n",
    "nn.fit(X, y, 4, 200, 0.05, verbose=True)\n",
    "print(nn.predict(X))"
   ]
  },
  {
   "cell_type": "code",
   "execution_count": 30,
   "metadata": {},
   "outputs": [
    {
     "name": "stdout",
     "output_type": "stream",
     "text": [
      "Fully Connected Layer: (2 inputs, 2 outputs) -> ReLU\n",
      "Weights (column corresponds to output neuron): \n",
      "[[ 1.09289261 -0.97768899]\n",
      " [-1.09289256  0.97768896]]\n",
      "Biases: \n",
      "[[ 3.56056826e-09 -8.50986952e-09]]\n",
      "Fully Connected Layer: (2 inputs, 1 outputs) -> Identity\n",
      "Weights (column corresponds to output neuron): \n",
      "[[0.91500263]\n",
      " [1.02281973]]\n",
      "Biases: \n",
      "[[2.92984256e-07]]\n"
     ]
    }
   ],
   "source": [
    "nn.show(detailed=True)"
   ]
  }
 ],
 "metadata": {
  "kernelspec": {
   "display_name": "Python 3",
   "language": "python",
   "name": "python3"
  },
  "language_info": {
   "codemirror_mode": {
    "name": "ipython",
    "version": 3
   },
   "file_extension": ".py",
   "mimetype": "text/x-python",
   "name": "python",
   "nbconvert_exporter": "python",
   "pygments_lexer": "ipython3",
   "version": "3.10.2"
  },
  "orig_nbformat": 4
 },
 "nbformat": 4,
 "nbformat_minor": 2
}
