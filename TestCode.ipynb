{
 "cells": [
  {
   "cell_type": "code",
   "execution_count": 1,
   "metadata": {},
   "outputs": [],
   "source": [
    "from NeuralNetwork import NeuralNetwork\n",
    "from Layers.Linear import Linear\n",
    "from Activations.Sigmoid import Sigmoid\n",
    "from Activations.ReLU import Relu\n",
    "from Loss.MSE import MSE\n",
    "\n",
    "import numpy as np"
   ]
  },
  {
   "cell_type": "code",
   "execution_count": 2,
   "metadata": {},
   "outputs": [],
   "source": [
    "# XOR inputs and outputs for testing\n",
    "X = np.array([[1, 1], [0, 0], [0, 1], [1, 0]])\n",
    "y = np.array([[0], [0], [1], [1]])"
   ]
  },
  {
   "cell_type": "code",
   "execution_count": 3,
   "metadata": {},
   "outputs": [],
   "source": [
    "nn = NeuralNetwork(\n",
    "    [Linear((2, 2), Relu(), dropout=0.8),\n",
    "    Linear((2, 1), Sigmoid(), dropout=1)],\n",
    "    criterion=MSE()\n",
    ")"
   ]
  },
  {
   "cell_type": "code",
   "execution_count": 8,
   "metadata": {},
   "outputs": [
    {
     "name": "stdout",
     "output_type": "stream",
     "text": [
      "[[0.19906421]\n",
      " [0.19906421]\n",
      " [0.94953497]\n",
      " [0.19906421]]\n",
      "Epoch [0/100], Loss: 0.0207\n",
      "Epoch [20/100], Loss: 0.3321\n",
      "Epoch [40/100], Loss: 0.0220\n",
      "Epoch [60/100], Loss: 0.0201\n",
      "Epoch [80/100], Loss: 0.0210\n",
      "Epoch [100/100], Loss: 0.1824\n",
      "[[0.1903291 ]\n",
      " [0.1903291 ]\n",
      " [0.95833022]\n",
      " [0.96019396]]\n"
     ]
    }
   ],
   "source": [
    "print(nn.predict(X))\n",
    "nn.fit(X, y, batch_size=4, epochs=100, lr=0.1, verbose=True)\n",
    "print(nn.predict(X))"
   ]
  },
  {
   "cell_type": "code",
   "execution_count": 9,
   "metadata": {},
   "outputs": [
    {
     "name": "stdout",
     "output_type": "stream",
     "text": [
      "Fully Connected Layer: (2 inputs, 2 outputs) -> ReLU\n",
      "Weights (column corresponds to output neuron): \n",
      "[[ 1.65717313 -2.11069226]\n",
      " [-1.66108334  2.07277848]]\n",
      "Biases: \n",
      "[[-0.00385017 -0.02198874]]\n",
      "Fully Connected Layer: (2 inputs, 1 outputs) -> Sigmoid\n",
      "Weights (column corresponds to output neuron): \n",
      "[[2.2408156 ]\n",
      " [1.78791196]]\n",
      "Biases: \n",
      "[[-1.4478732]]\n"
     ]
    }
   ],
   "source": [
    "nn.show(detailed=True)"
   ]
  }
 ],
 "metadata": {
  "kernelspec": {
   "display_name": "Python 3",
   "language": "python",
   "name": "python3"
  },
  "language_info": {
   "codemirror_mode": {
    "name": "ipython",
    "version": 3
   },
   "file_extension": ".py",
   "mimetype": "text/x-python",
   "name": "python",
   "nbconvert_exporter": "python",
   "pygments_lexer": "ipython3",
   "version": "3.10.2"
  },
  "orig_nbformat": 4
 },
 "nbformat": 4,
 "nbformat_minor": 2
}
