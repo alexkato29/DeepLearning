{
 "cells": [
  {
   "cell_type": "code",
   "execution_count": 5,
   "metadata": {},
   "outputs": [],
   "source": [
    "from NeuralNetwork import NeuralNetwork\n",
    "from Layers.Linear import Linear\n",
    "from Activations.Identity import Identity\n",
    "from Activations.ReLU import Relu\n",
    "from Loss.MSE import MSE\n",
    "from Optimizers.MiniBatchGD import MiniBatchGD\n",
    "\n",
    "import numpy as np"
   ]
  },
  {
   "cell_type": "code",
   "execution_count": 6,
   "metadata": {},
   "outputs": [],
   "source": [
    "# XOR inputs and outputs for testing\n",
    "X = np.array([[1, 1], [0, 0], [0, 1], [1, 0]])\n",
    "y = np.array([[0], [0], [1], [1]])"
   ]
  },
  {
   "cell_type": "code",
   "execution_count": 9,
   "metadata": {},
   "outputs": [],
   "source": [
    "# Optimizer and Loss Objects?\n",
    "nn = NeuralNetwork(\n",
    "    [\n",
    "    Linear((2, 2), Relu()),\n",
    "    Linear((2, 1), Identity())\n",
    "    ],\n",
    "    criterion=MSE(), optimizer=MiniBatchGD(batch_size=10)\n",
    ")"
   ]
  },
  {
   "cell_type": "code",
   "execution_count": 10,
   "metadata": {},
   "outputs": [
    {
     "name": "stdout",
     "output_type": "stream",
     "text": [
      "[[-0.84926433]\n",
      " [ 0.        ]\n",
      " [-0.20100819]\n",
      " [-0.64825613]]\n",
      "Fully Connected Layer: (2 inputs, 1 outputs) -> Identity\n",
      "<class 'Activations.Identity.Identity'>\n",
      "Fully Connected Layer: (2 inputs, 2 outputs) -> ReLU\n",
      "<class 'Activations.ReLU.Relu'>\n",
      "Fully Connected Layer: (2 inputs, 1 outputs) -> Identity\n",
      "<class 'Activations.Identity.Identity'>\n",
      "Fully Connected Layer: (2 inputs, 2 outputs) -> ReLU\n",
      "<class 'Activations.ReLU.Relu'>\n",
      "Fully Connected Layer: (2 inputs, 1 outputs) -> Identity\n",
      "<class 'Activations.Identity.Identity'>\n",
      "Fully Connected Layer: (2 inputs, 2 outputs) -> ReLU\n",
      "<class 'Activations.ReLU.Relu'>\n",
      "Fully Connected Layer: (2 inputs, 1 outputs) -> Identity\n",
      "<class 'Activations.Identity.Identity'>\n",
      "Fully Connected Layer: (2 inputs, 2 outputs) -> ReLU\n",
      "<class 'Activations.ReLU.Relu'>\n",
      "Epoch [1/1], Loss: 1.2201\n"
     ]
    }
   ],
   "source": [
    "print(nn.predict(X))\n",
    "nn.fit(X, y, 1, 1, verbose=True)"
   ]
  }
 ],
 "metadata": {
  "kernelspec": {
   "display_name": "Python 3",
   "language": "python",
   "name": "python3"
  },
  "language_info": {
   "codemirror_mode": {
    "name": "ipython",
    "version": 3
   },
   "file_extension": ".py",
   "mimetype": "text/x-python",
   "name": "python",
   "nbconvert_exporter": "python",
   "pygments_lexer": "ipython3",
   "version": "3.10.2"
  },
  "orig_nbformat": 4
 },
 "nbformat": 4,
 "nbformat_minor": 2
}
